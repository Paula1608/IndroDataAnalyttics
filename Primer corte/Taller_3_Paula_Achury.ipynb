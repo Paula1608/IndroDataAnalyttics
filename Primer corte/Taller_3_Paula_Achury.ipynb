{
  "nbformat": 4,
  "nbformat_minor": 0,
  "metadata": {
    "colab": {
      "provenance": []
    },
    "kernelspec": {
      "name": "python3",
      "display_name": "Python 3"
    },
    "language_info": {
      "name": "python"
    }
  },
  "cells": [
    {
      "cell_type": "code",
      "execution_count": 1,
      "metadata": {
        "id": "wgzCp3ioWR6K",
        "outputId": "a10a178a-4293-4877-c9ef-f3b41704189f",
        "colab": {
          "base_uri": "https://localhost:8080/",
          "height": 106
        }
      },
      "outputs": [
        {
          "output_type": "error",
          "ename": "SyntaxError",
          "evalue": "invalid character '¡' (U+00A1) (<ipython-input-1-b420e2f978cf>, line 8)",
          "traceback": [
            "\u001b[0;36m  File \u001b[0;32m\"<ipython-input-1-b420e2f978cf>\"\u001b[0;36m, line \u001b[0;32m8\u001b[0m\n\u001b[0;31m    ¡Manos a la obra!\u001b[0m\n\u001b[0m    ^\u001b[0m\n\u001b[0;31mSyntaxError\u001b[0m\u001b[0;31m:\u001b[0m invalid character '¡' (U+00A1)\n"
          ]
        }
      ],
      "source": [
        "# Análisis de Canciones – 20 Preguntas y Preguntas de Negocio\n",
        "\n",
        "En este notebook se plantean 20 preguntas que combinan operaciones de agrupación, filtrado y análisis de negocio sobre el dataset de canciones. Los estudiantes deberán:\n",
        "- Realizar análisis descriptivo básico (dimensiones, resumen estadístico, etc.).\n",
        "- Aplicar agrupaciones y filtros para extraer información (por artista, género, año, etc.).\n",
        "- Reflexionar sobre los resultados y plantear posibles estrategias de negocio en la industria musical.\n",
        "\n",
        "¡Manos a la obra!"
      ]
    },
    {
      "cell_type": "code",
      "source": [
        "!wget https://github.com/javierherrera1996/lecture_analytics/raw/main/songs_normalize.csv"
      ],
      "metadata": {
        "colab": {
          "base_uri": "https://localhost:8080/"
        },
        "id": "uuNJFgyaWsbI",
        "outputId": "82fcd3ca-7974-4e39-c0c8-8af12d62b919"
      },
      "execution_count": 2,
      "outputs": [
        {
          "output_type": "stream",
          "name": "stdout",
          "text": [
            "--2025-03-13 19:39:54--  https://github.com/javierherrera1996/lecture_analytics/raw/main/songs_normalize.csv\n",
            "Resolving github.com (github.com)... 140.82.114.4\n",
            "Connecting to github.com (github.com)|140.82.114.4|:443... connected.\n",
            "HTTP request sent, awaiting response... 302 Found\n",
            "Location: https://raw.githubusercontent.com/javierherrera1996/lecture_analytics/main/songs_normalize.csv [following]\n",
            "--2025-03-13 19:39:54--  https://raw.githubusercontent.com/javierherrera1996/lecture_analytics/main/songs_normalize.csv\n",
            "Resolving raw.githubusercontent.com (raw.githubusercontent.com)... 185.199.108.133, 185.199.109.133, 185.199.110.133, ...\n",
            "Connecting to raw.githubusercontent.com (raw.githubusercontent.com)|185.199.108.133|:443... connected.\n",
            "HTTP request sent, awaiting response... 200 OK\n",
            "Length: 254987 (249K) [text/plain]\n",
            "Saving to: ‘songs_normalize.csv’\n",
            "\n",
            "songs_normalize.csv 100%[===================>] 249.01K  --.-KB/s    in 0.04s   \n",
            "\n",
            "2025-03-13 19:39:54 (6.50 MB/s) - ‘songs_normalize.csv’ saved [254987/254987]\n",
            "\n"
          ]
        }
      ]
    },
    {
      "cell_type": "code",
      "source": [
        "# Importar librerías necesarias\n",
        "import pandas as pd\n",
        "import numpy as np\n",
        "\n",
        "# Leer el dataset (asegúrate de haber subido 'songs_normalize.csv' a tu entorno de Colab)\n",
        "data = pd.read_csv('songs_normalize.csv')"
      ],
      "metadata": {
        "id": "Ii7pE2tnWsQz"
      },
      "execution_count": 3,
      "outputs": []
    },
    {
      "cell_type": "markdown",
      "source": [
        "## Pregunta 1\n",
        "**¿Cuántas filas y columnas tiene el dataset?**\n",
        "\n",
        "_Muestra las dimensiones del DataFrame._"
      ],
      "metadata": {
        "id": "rOc1MYSiXB2F"
      }
    },
    {
      "cell_type": "code",
      "source": [
        "data.shape\n",
        "print(f\"Hay {data.shape[1]} columnas, y {data.shape[0]} filas\")"
      ],
      "metadata": {
        "colab": {
          "base_uri": "https://localhost:8080/"
        },
        "id": "zKmGI3yhXEjN",
        "outputId": "242b914b-ae88-49b6-b78a-cf7aa5df3a0b"
      },
      "execution_count": 4,
      "outputs": [
        {
          "output_type": "stream",
          "name": "stdout",
          "text": [
            "Hay 18 columnas, y 2000 filas\n"
          ]
        }
      ]
    },
    {
      "cell_type": "markdown",
      "source": [
        "## Pregunta 2\n",
        "**¿Cuál es la unidad de observación del dataset?**\n",
        "\n",
        "_Describe qué representa cada fila (por ejemplo, una canción)._"
      ],
      "metadata": {
        "id": "kTZO9BweWphP"
      }
    },
    {
      "cell_type": "code",
      "source": [
        "data.head()"
      ],
      "metadata": {
        "colab": {
          "base_uri": "https://localhost:8080/",
          "height": 206
        },
        "id": "F2U0dz2QXH11",
        "outputId": "19530eeb-06aa-4696-e775-6958d962234f"
      },
      "execution_count": 5,
      "outputs": [
        {
          "output_type": "execute_result",
          "data": {
            "text/plain": [
              "           artist                    song  duration_ms  explicit  year  \\\n",
              "0  Britney Spears  Oops!...I Did It Again       211160     False  2000   \n",
              "1       blink-182    All The Small Things       167066     False  1999   \n",
              "2      Faith Hill                 Breathe       250546     False  1999   \n",
              "3        Bon Jovi            It's My Life       224493     False  2000   \n",
              "4          *NSYNC             Bye Bye Bye       200560     False  2000   \n",
              "\n",
              "   popularity  danceability  energy  key  loudness  mode  speechiness  \\\n",
              "0          77         0.751   0.834    1    -5.444     0       0.0437   \n",
              "1          79         0.434   0.897    0    -4.918     1       0.0488   \n",
              "2          66         0.529   0.496    7    -9.007     1       0.0290   \n",
              "3          78         0.551   0.913    0    -4.063     0       0.0466   \n",
              "4          65         0.614   0.928    8    -4.806     0       0.0516   \n",
              "\n",
              "   acousticness  instrumentalness  liveness  valence    tempo         genre  \n",
              "0        0.3000          0.000018    0.3550    0.894   95.053           pop  \n",
              "1        0.0103          0.000000    0.6120    0.684  148.726     rock, pop  \n",
              "2        0.1730          0.000000    0.2510    0.278  136.859  pop, country  \n",
              "3        0.0263          0.000013    0.3470    0.544  119.992   rock, metal  \n",
              "4        0.0408          0.001040    0.0845    0.879  172.656           pop  "
            ],
            "text/html": [
              "\n",
              "  <div id=\"df-b0107dcb-f92c-4ad6-b6a9-3d39825a135e\" class=\"colab-df-container\">\n",
              "    <div>\n",
              "<style scoped>\n",
              "    .dataframe tbody tr th:only-of-type {\n",
              "        vertical-align: middle;\n",
              "    }\n",
              "\n",
              "    .dataframe tbody tr th {\n",
              "        vertical-align: top;\n",
              "    }\n",
              "\n",
              "    .dataframe thead th {\n",
              "        text-align: right;\n",
              "    }\n",
              "</style>\n",
              "<table border=\"1\" class=\"dataframe\">\n",
              "  <thead>\n",
              "    <tr style=\"text-align: right;\">\n",
              "      <th></th>\n",
              "      <th>artist</th>\n",
              "      <th>song</th>\n",
              "      <th>duration_ms</th>\n",
              "      <th>explicit</th>\n",
              "      <th>year</th>\n",
              "      <th>popularity</th>\n",
              "      <th>danceability</th>\n",
              "      <th>energy</th>\n",
              "      <th>key</th>\n",
              "      <th>loudness</th>\n",
              "      <th>mode</th>\n",
              "      <th>speechiness</th>\n",
              "      <th>acousticness</th>\n",
              "      <th>instrumentalness</th>\n",
              "      <th>liveness</th>\n",
              "      <th>valence</th>\n",
              "      <th>tempo</th>\n",
              "      <th>genre</th>\n",
              "    </tr>\n",
              "  </thead>\n",
              "  <tbody>\n",
              "    <tr>\n",
              "      <th>0</th>\n",
              "      <td>Britney Spears</td>\n",
              "      <td>Oops!...I Did It Again</td>\n",
              "      <td>211160</td>\n",
              "      <td>False</td>\n",
              "      <td>2000</td>\n",
              "      <td>77</td>\n",
              "      <td>0.751</td>\n",
              "      <td>0.834</td>\n",
              "      <td>1</td>\n",
              "      <td>-5.444</td>\n",
              "      <td>0</td>\n",
              "      <td>0.0437</td>\n",
              "      <td>0.3000</td>\n",
              "      <td>0.000018</td>\n",
              "      <td>0.3550</td>\n",
              "      <td>0.894</td>\n",
              "      <td>95.053</td>\n",
              "      <td>pop</td>\n",
              "    </tr>\n",
              "    <tr>\n",
              "      <th>1</th>\n",
              "      <td>blink-182</td>\n",
              "      <td>All The Small Things</td>\n",
              "      <td>167066</td>\n",
              "      <td>False</td>\n",
              "      <td>1999</td>\n",
              "      <td>79</td>\n",
              "      <td>0.434</td>\n",
              "      <td>0.897</td>\n",
              "      <td>0</td>\n",
              "      <td>-4.918</td>\n",
              "      <td>1</td>\n",
              "      <td>0.0488</td>\n",
              "      <td>0.0103</td>\n",
              "      <td>0.000000</td>\n",
              "      <td>0.6120</td>\n",
              "      <td>0.684</td>\n",
              "      <td>148.726</td>\n",
              "      <td>rock, pop</td>\n",
              "    </tr>\n",
              "    <tr>\n",
              "      <th>2</th>\n",
              "      <td>Faith Hill</td>\n",
              "      <td>Breathe</td>\n",
              "      <td>250546</td>\n",
              "      <td>False</td>\n",
              "      <td>1999</td>\n",
              "      <td>66</td>\n",
              "      <td>0.529</td>\n",
              "      <td>0.496</td>\n",
              "      <td>7</td>\n",
              "      <td>-9.007</td>\n",
              "      <td>1</td>\n",
              "      <td>0.0290</td>\n",
              "      <td>0.1730</td>\n",
              "      <td>0.000000</td>\n",
              "      <td>0.2510</td>\n",
              "      <td>0.278</td>\n",
              "      <td>136.859</td>\n",
              "      <td>pop, country</td>\n",
              "    </tr>\n",
              "    <tr>\n",
              "      <th>3</th>\n",
              "      <td>Bon Jovi</td>\n",
              "      <td>It's My Life</td>\n",
              "      <td>224493</td>\n",
              "      <td>False</td>\n",
              "      <td>2000</td>\n",
              "      <td>78</td>\n",
              "      <td>0.551</td>\n",
              "      <td>0.913</td>\n",
              "      <td>0</td>\n",
              "      <td>-4.063</td>\n",
              "      <td>0</td>\n",
              "      <td>0.0466</td>\n",
              "      <td>0.0263</td>\n",
              "      <td>0.000013</td>\n",
              "      <td>0.3470</td>\n",
              "      <td>0.544</td>\n",
              "      <td>119.992</td>\n",
              "      <td>rock, metal</td>\n",
              "    </tr>\n",
              "    <tr>\n",
              "      <th>4</th>\n",
              "      <td>*NSYNC</td>\n",
              "      <td>Bye Bye Bye</td>\n",
              "      <td>200560</td>\n",
              "      <td>False</td>\n",
              "      <td>2000</td>\n",
              "      <td>65</td>\n",
              "      <td>0.614</td>\n",
              "      <td>0.928</td>\n",
              "      <td>8</td>\n",
              "      <td>-4.806</td>\n",
              "      <td>0</td>\n",
              "      <td>0.0516</td>\n",
              "      <td>0.0408</td>\n",
              "      <td>0.001040</td>\n",
              "      <td>0.0845</td>\n",
              "      <td>0.879</td>\n",
              "      <td>172.656</td>\n",
              "      <td>pop</td>\n",
              "    </tr>\n",
              "  </tbody>\n",
              "</table>\n",
              "</div>\n",
              "    <div class=\"colab-df-buttons\">\n",
              "\n",
              "  <div class=\"colab-df-container\">\n",
              "    <button class=\"colab-df-convert\" onclick=\"convertToInteractive('df-b0107dcb-f92c-4ad6-b6a9-3d39825a135e')\"\n",
              "            title=\"Convert this dataframe to an interactive table.\"\n",
              "            style=\"display:none;\">\n",
              "\n",
              "  <svg xmlns=\"http://www.w3.org/2000/svg\" height=\"24px\" viewBox=\"0 -960 960 960\">\n",
              "    <path d=\"M120-120v-720h720v720H120Zm60-500h600v-160H180v160Zm220 220h160v-160H400v160Zm0 220h160v-160H400v160ZM180-400h160v-160H180v160Zm440 0h160v-160H620v160ZM180-180h160v-160H180v160Zm440 0h160v-160H620v160Z\"/>\n",
              "  </svg>\n",
              "    </button>\n",
              "\n",
              "  <style>\n",
              "    .colab-df-container {\n",
              "      display:flex;\n",
              "      gap: 12px;\n",
              "    }\n",
              "\n",
              "    .colab-df-convert {\n",
              "      background-color: #E8F0FE;\n",
              "      border: none;\n",
              "      border-radius: 50%;\n",
              "      cursor: pointer;\n",
              "      display: none;\n",
              "      fill: #1967D2;\n",
              "      height: 32px;\n",
              "      padding: 0 0 0 0;\n",
              "      width: 32px;\n",
              "    }\n",
              "\n",
              "    .colab-df-convert:hover {\n",
              "      background-color: #E2EBFA;\n",
              "      box-shadow: 0px 1px 2px rgba(60, 64, 67, 0.3), 0px 1px 3px 1px rgba(60, 64, 67, 0.15);\n",
              "      fill: #174EA6;\n",
              "    }\n",
              "\n",
              "    .colab-df-buttons div {\n",
              "      margin-bottom: 4px;\n",
              "    }\n",
              "\n",
              "    [theme=dark] .colab-df-convert {\n",
              "      background-color: #3B4455;\n",
              "      fill: #D2E3FC;\n",
              "    }\n",
              "\n",
              "    [theme=dark] .colab-df-convert:hover {\n",
              "      background-color: #434B5C;\n",
              "      box-shadow: 0px 1px 3px 1px rgba(0, 0, 0, 0.15);\n",
              "      filter: drop-shadow(0px 1px 2px rgba(0, 0, 0, 0.3));\n",
              "      fill: #FFFFFF;\n",
              "    }\n",
              "  </style>\n",
              "\n",
              "    <script>\n",
              "      const buttonEl =\n",
              "        document.querySelector('#df-b0107dcb-f92c-4ad6-b6a9-3d39825a135e button.colab-df-convert');\n",
              "      buttonEl.style.display =\n",
              "        google.colab.kernel.accessAllowed ? 'block' : 'none';\n",
              "\n",
              "      async function convertToInteractive(key) {\n",
              "        const element = document.querySelector('#df-b0107dcb-f92c-4ad6-b6a9-3d39825a135e');\n",
              "        const dataTable =\n",
              "          await google.colab.kernel.invokeFunction('convertToInteractive',\n",
              "                                                    [key], {});\n",
              "        if (!dataTable) return;\n",
              "\n",
              "        const docLinkHtml = 'Like what you see? Visit the ' +\n",
              "          '<a target=\"_blank\" href=https://colab.research.google.com/notebooks/data_table.ipynb>data table notebook</a>'\n",
              "          + ' to learn more about interactive tables.';\n",
              "        element.innerHTML = '';\n",
              "        dataTable['output_type'] = 'display_data';\n",
              "        await google.colab.output.renderOutput(dataTable, element);\n",
              "        const docLink = document.createElement('div');\n",
              "        docLink.innerHTML = docLinkHtml;\n",
              "        element.appendChild(docLink);\n",
              "      }\n",
              "    </script>\n",
              "  </div>\n",
              "\n",
              "\n",
              "<div id=\"df-00855385-a91d-4542-a91f-48b56d118c3a\">\n",
              "  <button class=\"colab-df-quickchart\" onclick=\"quickchart('df-00855385-a91d-4542-a91f-48b56d118c3a')\"\n",
              "            title=\"Suggest charts\"\n",
              "            style=\"display:none;\">\n",
              "\n",
              "<svg xmlns=\"http://www.w3.org/2000/svg\" height=\"24px\"viewBox=\"0 0 24 24\"\n",
              "     width=\"24px\">\n",
              "    <g>\n",
              "        <path d=\"M19 3H5c-1.1 0-2 .9-2 2v14c0 1.1.9 2 2 2h14c1.1 0 2-.9 2-2V5c0-1.1-.9-2-2-2zM9 17H7v-7h2v7zm4 0h-2V7h2v10zm4 0h-2v-4h2v4z\"/>\n",
              "    </g>\n",
              "</svg>\n",
              "  </button>\n",
              "\n",
              "<style>\n",
              "  .colab-df-quickchart {\n",
              "      --bg-color: #E8F0FE;\n",
              "      --fill-color: #1967D2;\n",
              "      --hover-bg-color: #E2EBFA;\n",
              "      --hover-fill-color: #174EA6;\n",
              "      --disabled-fill-color: #AAA;\n",
              "      --disabled-bg-color: #DDD;\n",
              "  }\n",
              "\n",
              "  [theme=dark] .colab-df-quickchart {\n",
              "      --bg-color: #3B4455;\n",
              "      --fill-color: #D2E3FC;\n",
              "      --hover-bg-color: #434B5C;\n",
              "      --hover-fill-color: #FFFFFF;\n",
              "      --disabled-bg-color: #3B4455;\n",
              "      --disabled-fill-color: #666;\n",
              "  }\n",
              "\n",
              "  .colab-df-quickchart {\n",
              "    background-color: var(--bg-color);\n",
              "    border: none;\n",
              "    border-radius: 50%;\n",
              "    cursor: pointer;\n",
              "    display: none;\n",
              "    fill: var(--fill-color);\n",
              "    height: 32px;\n",
              "    padding: 0;\n",
              "    width: 32px;\n",
              "  }\n",
              "\n",
              "  .colab-df-quickchart:hover {\n",
              "    background-color: var(--hover-bg-color);\n",
              "    box-shadow: 0 1px 2px rgba(60, 64, 67, 0.3), 0 1px 3px 1px rgba(60, 64, 67, 0.15);\n",
              "    fill: var(--button-hover-fill-color);\n",
              "  }\n",
              "\n",
              "  .colab-df-quickchart-complete:disabled,\n",
              "  .colab-df-quickchart-complete:disabled:hover {\n",
              "    background-color: var(--disabled-bg-color);\n",
              "    fill: var(--disabled-fill-color);\n",
              "    box-shadow: none;\n",
              "  }\n",
              "\n",
              "  .colab-df-spinner {\n",
              "    border: 2px solid var(--fill-color);\n",
              "    border-color: transparent;\n",
              "    border-bottom-color: var(--fill-color);\n",
              "    animation:\n",
              "      spin 1s steps(1) infinite;\n",
              "  }\n",
              "\n",
              "  @keyframes spin {\n",
              "    0% {\n",
              "      border-color: transparent;\n",
              "      border-bottom-color: var(--fill-color);\n",
              "      border-left-color: var(--fill-color);\n",
              "    }\n",
              "    20% {\n",
              "      border-color: transparent;\n",
              "      border-left-color: var(--fill-color);\n",
              "      border-top-color: var(--fill-color);\n",
              "    }\n",
              "    30% {\n",
              "      border-color: transparent;\n",
              "      border-left-color: var(--fill-color);\n",
              "      border-top-color: var(--fill-color);\n",
              "      border-right-color: var(--fill-color);\n",
              "    }\n",
              "    40% {\n",
              "      border-color: transparent;\n",
              "      border-right-color: var(--fill-color);\n",
              "      border-top-color: var(--fill-color);\n",
              "    }\n",
              "    60% {\n",
              "      border-color: transparent;\n",
              "      border-right-color: var(--fill-color);\n",
              "    }\n",
              "    80% {\n",
              "      border-color: transparent;\n",
              "      border-right-color: var(--fill-color);\n",
              "      border-bottom-color: var(--fill-color);\n",
              "    }\n",
              "    90% {\n",
              "      border-color: transparent;\n",
              "      border-bottom-color: var(--fill-color);\n",
              "    }\n",
              "  }\n",
              "</style>\n",
              "\n",
              "  <script>\n",
              "    async function quickchart(key) {\n",
              "      const quickchartButtonEl =\n",
              "        document.querySelector('#' + key + ' button');\n",
              "      quickchartButtonEl.disabled = true;  // To prevent multiple clicks.\n",
              "      quickchartButtonEl.classList.add('colab-df-spinner');\n",
              "      try {\n",
              "        const charts = await google.colab.kernel.invokeFunction(\n",
              "            'suggestCharts', [key], {});\n",
              "      } catch (error) {\n",
              "        console.error('Error during call to suggestCharts:', error);\n",
              "      }\n",
              "      quickchartButtonEl.classList.remove('colab-df-spinner');\n",
              "      quickchartButtonEl.classList.add('colab-df-quickchart-complete');\n",
              "    }\n",
              "    (() => {\n",
              "      let quickchartButtonEl =\n",
              "        document.querySelector('#df-00855385-a91d-4542-a91f-48b56d118c3a button');\n",
              "      quickchartButtonEl.style.display =\n",
              "        google.colab.kernel.accessAllowed ? 'block' : 'none';\n",
              "    })();\n",
              "  </script>\n",
              "</div>\n",
              "\n",
              "    </div>\n",
              "  </div>\n"
            ],
            "application/vnd.google.colaboratory.intrinsic+json": {
              "type": "dataframe",
              "variable_name": "data",
              "summary": "{\n  \"name\": \"data\",\n  \"rows\": 2000,\n  \"fields\": [\n    {\n      \"column\": \"artist\",\n      \"properties\": {\n        \"dtype\": \"category\",\n        \"num_unique_values\": 835,\n        \"samples\": [\n          \"Route 94\",\n          \"AJ Tracey\",\n          \"Chris Brown\"\n        ],\n        \"semantic_type\": \"\",\n        \"description\": \"\"\n      }\n    },\n    {\n      \"column\": \"song\",\n      \"properties\": {\n        \"dtype\": \"string\",\n        \"num_unique_values\": 1879,\n        \"samples\": [\n          \"Donald Trump\",\n          \"Are You With Me - Radio Edit\",\n          \"The Way\"\n        ],\n        \"semantic_type\": \"\",\n        \"description\": \"\"\n      }\n    },\n    {\n      \"column\": \"duration_ms\",\n      \"properties\": {\n        \"dtype\": \"number\",\n        \"std\": 39136,\n        \"min\": 113000,\n        \"max\": 484146,\n        \"num_unique_values\": 1793,\n        \"samples\": [\n          174120,\n          230346,\n          157202\n        ],\n        \"semantic_type\": \"\",\n        \"description\": \"\"\n      }\n    },\n    {\n      \"column\": \"explicit\",\n      \"properties\": {\n        \"dtype\": \"boolean\",\n        \"num_unique_values\": 2,\n        \"samples\": [\n          true,\n          false\n        ],\n        \"semantic_type\": \"\",\n        \"description\": \"\"\n      }\n    },\n    {\n      \"column\": \"year\",\n      \"properties\": {\n        \"dtype\": \"number\",\n        \"std\": 5,\n        \"min\": 1998,\n        \"max\": 2020,\n        \"num_unique_values\": 23,\n        \"samples\": [\n          2013,\n          2010\n        ],\n        \"semantic_type\": \"\",\n        \"description\": \"\"\n      }\n    },\n    {\n      \"column\": \"popularity\",\n      \"properties\": {\n        \"dtype\": \"number\",\n        \"std\": 21,\n        \"min\": 0,\n        \"max\": 89,\n        \"num_unique_values\": 76,\n        \"samples\": [\n          65,\n          74\n        ],\n        \"semantic_type\": \"\",\n        \"description\": \"\"\n      }\n    },\n    {\n      \"column\": \"danceability\",\n      \"properties\": {\n        \"dtype\": \"number\",\n        \"std\": 0.14041641456214887,\n        \"min\": 0.129,\n        \"max\": 0.975,\n        \"num_unique_values\": 565,\n        \"samples\": [\n          0.501,\n          0.806\n        ],\n        \"semantic_type\": \"\",\n        \"description\": \"\"\n      }\n    },\n    {\n      \"column\": \"energy\",\n      \"properties\": {\n        \"dtype\": \"number\",\n        \"std\": 0.15274528442789154,\n        \"min\": 0.0549,\n        \"max\": 0.999,\n        \"num_unique_values\": 580,\n        \"samples\": [\n          0.63,\n          0.788\n        ],\n        \"semantic_type\": \"\",\n        \"description\": \"\"\n      }\n    },\n    {\n      \"column\": \"key\",\n      \"properties\": {\n        \"dtype\": \"number\",\n        \"std\": 3,\n        \"min\": 0,\n        \"max\": 11,\n        \"num_unique_values\": 12,\n        \"samples\": [\n          9,\n          10\n        ],\n        \"semantic_type\": \"\",\n        \"description\": \"\"\n      }\n    },\n    {\n      \"column\": \"loudness\",\n      \"properties\": {\n        \"dtype\": \"number\",\n        \"std\": 1.9334820133783976,\n        \"min\": -20.514,\n        \"max\": -0.276,\n        \"num_unique_values\": 1671,\n        \"samples\": [\n          -3.651,\n          -3.708\n        ],\n        \"semantic_type\": \"\",\n        \"description\": \"\"\n      }\n    },\n    {\n      \"column\": \"mode\",\n      \"properties\": {\n        \"dtype\": \"number\",\n        \"std\": 0,\n        \"min\": 0,\n        \"max\": 1,\n        \"num_unique_values\": 2,\n        \"samples\": [\n          1,\n          0\n        ],\n        \"semantic_type\": \"\",\n        \"description\": \"\"\n      }\n    },\n    {\n      \"column\": \"speechiness\",\n      \"properties\": {\n        \"dtype\": \"number\",\n        \"std\": 0.09615876419066201,\n        \"min\": 0.0232,\n        \"max\": 0.576,\n        \"num_unique_values\": 837,\n        \"samples\": [\n          0.0926,\n          0.461\n        ],\n        \"semantic_type\": \"\",\n        \"description\": \"\"\n      }\n    },\n    {\n      \"column\": \"acousticness\",\n      \"properties\": {\n        \"dtype\": \"number\",\n        \"std\": 0.17334592622478562,\n        \"min\": 1.92e-05,\n        \"max\": 0.976,\n        \"num_unique_values\": 1208,\n        \"samples\": [\n          0.0371,\n          0.665\n        ],\n        \"semantic_type\": \"\",\n        \"description\": \"\"\n      }\n    },\n    {\n      \"column\": \"instrumentalness\",\n      \"properties\": {\n        \"dtype\": \"number\",\n        \"std\": 0.08777072160147643,\n        \"min\": 0.0,\n        \"max\": 0.985,\n        \"num_unique_values\": 772,\n        \"samples\": [\n          0.000879,\n          0.00156\n        ],\n        \"semantic_type\": \"\",\n        \"description\": \"\"\n      }\n    },\n    {\n      \"column\": \"liveness\",\n      \"properties\": {\n        \"dtype\": \"number\",\n        \"std\": 0.14066920673417369,\n        \"min\": 0.0215,\n        \"max\": 0.853,\n        \"num_unique_values\": 783,\n        \"samples\": [\n          0.272,\n          0.0658\n        ],\n        \"semantic_type\": \"\",\n        \"description\": \"\"\n      }\n    },\n    {\n      \"column\": \"valence\",\n      \"properties\": {\n        \"dtype\": \"number\",\n        \"std\": 0.2208641897932844,\n        \"min\": 0.0381,\n        \"max\": 0.973,\n        \"num_unique_values\": 760,\n        \"samples\": [\n          0.504,\n          0.877\n        ],\n        \"semantic_type\": \"\",\n        \"description\": \"\"\n      }\n    },\n    {\n      \"column\": \"tempo\",\n      \"properties\": {\n        \"dtype\": \"number\",\n        \"std\": 26.967111988479473,\n        \"min\": 60.019,\n        \"max\": 210.851,\n        \"num_unique_values\": 1831,\n        \"samples\": [\n          124.994,\n          76.899\n        ],\n        \"semantic_type\": \"\",\n        \"description\": \"\"\n      }\n    },\n    {\n      \"column\": \"genre\",\n      \"properties\": {\n        \"dtype\": \"category\",\n        \"num_unique_values\": 59,\n        \"samples\": [\n          \"pop\",\n          \"hip hop\"\n        ],\n        \"semantic_type\": \"\",\n        \"description\": \"\"\n      }\n    }\n  ]\n}"
            }
          },
          "metadata": {},
          "execution_count": 5
        }
      ]
    },
    {
      "cell_type": "markdown",
      "source": [
        "Cada fila representa"
      ],
      "metadata": {
        "id": "mBkvAC2XDAlN"
      }
    },
    {
      "cell_type": "markdown",
      "source": [],
      "metadata": {
        "id": "fQdYsLBkZTDi"
      }
    },
    {
      "cell_type": "markdown",
      "source": [
        "## Pregunta 3\n",
        "**Genera un resumen estadístico de las variables numéricas.**\n",
        "\n",
        "_Utiliza el método `describe()` para visualizar conteos, medias, desviaciones, etc._"
      ],
      "metadata": {
        "id": "wKj4BPupXMM8"
      }
    },
    {
      "cell_type": "code",
      "source": [
        "data.describe()"
      ],
      "metadata": {
        "colab": {
          "base_uri": "https://localhost:8080/",
          "height": 300
        },
        "id": "TPoDv8-AXfGh",
        "outputId": "0a0ab72d-6219-42bd-f045-7aaab71eaeb4"
      },
      "execution_count": 6,
      "outputs": [
        {
          "output_type": "execute_result",
          "data": {
            "text/plain": [
              "         duration_ms        year   popularity  danceability       energy  \\\n",
              "count    2000.000000  2000.00000  2000.000000   2000.000000  2000.000000   \n",
              "mean   228748.124500  2009.49400    59.872500      0.667438     0.720366   \n",
              "std     39136.569008     5.85996    21.335577      0.140416     0.152745   \n",
              "min    113000.000000  1998.00000     0.000000      0.129000     0.054900   \n",
              "25%    203580.000000  2004.00000    56.000000      0.581000     0.622000   \n",
              "50%    223279.500000  2010.00000    65.500000      0.676000     0.736000   \n",
              "75%    248133.000000  2015.00000    73.000000      0.764000     0.839000   \n",
              "max    484146.000000  2020.00000    89.000000      0.975000     0.999000   \n",
              "\n",
              "               key     loudness         mode  speechiness  acousticness  \\\n",
              "count  2000.000000  2000.000000  2000.000000  2000.000000   2000.000000   \n",
              "mean      5.378000    -5.512434     0.553500     0.103568      0.128955   \n",
              "std       3.615059     1.933482     0.497254     0.096159      0.173346   \n",
              "min       0.000000   -20.514000     0.000000     0.023200      0.000019   \n",
              "25%       2.000000    -6.490250     0.000000     0.039600      0.014000   \n",
              "50%       6.000000    -5.285000     1.000000     0.059850      0.055700   \n",
              "75%       8.000000    -4.167750     1.000000     0.129000      0.176250   \n",
              "max      11.000000    -0.276000     1.000000     0.576000      0.976000   \n",
              "\n",
              "       instrumentalness     liveness      valence        tempo  \n",
              "count       2000.000000  2000.000000  2000.000000  2000.000000  \n",
              "mean           0.015226     0.181216     0.551690   120.122558  \n",
              "std            0.087771     0.140669     0.220864    26.967112  \n",
              "min            0.000000     0.021500     0.038100    60.019000  \n",
              "25%            0.000000     0.088100     0.386750    98.985750  \n",
              "50%            0.000000     0.124000     0.557500   120.021500  \n",
              "75%            0.000068     0.241000     0.730000   134.265500  \n",
              "max            0.985000     0.853000     0.973000   210.851000  "
            ],
            "text/html": [
              "\n",
              "  <div id=\"df-c325cdf9-043d-4563-98d0-ff266331d62b\" class=\"colab-df-container\">\n",
              "    <div>\n",
              "<style scoped>\n",
              "    .dataframe tbody tr th:only-of-type {\n",
              "        vertical-align: middle;\n",
              "    }\n",
              "\n",
              "    .dataframe tbody tr th {\n",
              "        vertical-align: top;\n",
              "    }\n",
              "\n",
              "    .dataframe thead th {\n",
              "        text-align: right;\n",
              "    }\n",
              "</style>\n",
              "<table border=\"1\" class=\"dataframe\">\n",
              "  <thead>\n",
              "    <tr style=\"text-align: right;\">\n",
              "      <th></th>\n",
              "      <th>duration_ms</th>\n",
              "      <th>year</th>\n",
              "      <th>popularity</th>\n",
              "      <th>danceability</th>\n",
              "      <th>energy</th>\n",
              "      <th>key</th>\n",
              "      <th>loudness</th>\n",
              "      <th>mode</th>\n",
              "      <th>speechiness</th>\n",
              "      <th>acousticness</th>\n",
              "      <th>instrumentalness</th>\n",
              "      <th>liveness</th>\n",
              "      <th>valence</th>\n",
              "      <th>tempo</th>\n",
              "    </tr>\n",
              "  </thead>\n",
              "  <tbody>\n",
              "    <tr>\n",
              "      <th>count</th>\n",
              "      <td>2000.000000</td>\n",
              "      <td>2000.00000</td>\n",
              "      <td>2000.000000</td>\n",
              "      <td>2000.000000</td>\n",
              "      <td>2000.000000</td>\n",
              "      <td>2000.000000</td>\n",
              "      <td>2000.000000</td>\n",
              "      <td>2000.000000</td>\n",
              "      <td>2000.000000</td>\n",
              "      <td>2000.000000</td>\n",
              "      <td>2000.000000</td>\n",
              "      <td>2000.000000</td>\n",
              "      <td>2000.000000</td>\n",
              "      <td>2000.000000</td>\n",
              "    </tr>\n",
              "    <tr>\n",
              "      <th>mean</th>\n",
              "      <td>228748.124500</td>\n",
              "      <td>2009.49400</td>\n",
              "      <td>59.872500</td>\n",
              "      <td>0.667438</td>\n",
              "      <td>0.720366</td>\n",
              "      <td>5.378000</td>\n",
              "      <td>-5.512434</td>\n",
              "      <td>0.553500</td>\n",
              "      <td>0.103568</td>\n",
              "      <td>0.128955</td>\n",
              "      <td>0.015226</td>\n",
              "      <td>0.181216</td>\n",
              "      <td>0.551690</td>\n",
              "      <td>120.122558</td>\n",
              "    </tr>\n",
              "    <tr>\n",
              "      <th>std</th>\n",
              "      <td>39136.569008</td>\n",
              "      <td>5.85996</td>\n",
              "      <td>21.335577</td>\n",
              "      <td>0.140416</td>\n",
              "      <td>0.152745</td>\n",
              "      <td>3.615059</td>\n",
              "      <td>1.933482</td>\n",
              "      <td>0.497254</td>\n",
              "      <td>0.096159</td>\n",
              "      <td>0.173346</td>\n",
              "      <td>0.087771</td>\n",
              "      <td>0.140669</td>\n",
              "      <td>0.220864</td>\n",
              "      <td>26.967112</td>\n",
              "    </tr>\n",
              "    <tr>\n",
              "      <th>min</th>\n",
              "      <td>113000.000000</td>\n",
              "      <td>1998.00000</td>\n",
              "      <td>0.000000</td>\n",
              "      <td>0.129000</td>\n",
              "      <td>0.054900</td>\n",
              "      <td>0.000000</td>\n",
              "      <td>-20.514000</td>\n",
              "      <td>0.000000</td>\n",
              "      <td>0.023200</td>\n",
              "      <td>0.000019</td>\n",
              "      <td>0.000000</td>\n",
              "      <td>0.021500</td>\n",
              "      <td>0.038100</td>\n",
              "      <td>60.019000</td>\n",
              "    </tr>\n",
              "    <tr>\n",
              "      <th>25%</th>\n",
              "      <td>203580.000000</td>\n",
              "      <td>2004.00000</td>\n",
              "      <td>56.000000</td>\n",
              "      <td>0.581000</td>\n",
              "      <td>0.622000</td>\n",
              "      <td>2.000000</td>\n",
              "      <td>-6.490250</td>\n",
              "      <td>0.000000</td>\n",
              "      <td>0.039600</td>\n",
              "      <td>0.014000</td>\n",
              "      <td>0.000000</td>\n",
              "      <td>0.088100</td>\n",
              "      <td>0.386750</td>\n",
              "      <td>98.985750</td>\n",
              "    </tr>\n",
              "    <tr>\n",
              "      <th>50%</th>\n",
              "      <td>223279.500000</td>\n",
              "      <td>2010.00000</td>\n",
              "      <td>65.500000</td>\n",
              "      <td>0.676000</td>\n",
              "      <td>0.736000</td>\n",
              "      <td>6.000000</td>\n",
              "      <td>-5.285000</td>\n",
              "      <td>1.000000</td>\n",
              "      <td>0.059850</td>\n",
              "      <td>0.055700</td>\n",
              "      <td>0.000000</td>\n",
              "      <td>0.124000</td>\n",
              "      <td>0.557500</td>\n",
              "      <td>120.021500</td>\n",
              "    </tr>\n",
              "    <tr>\n",
              "      <th>75%</th>\n",
              "      <td>248133.000000</td>\n",
              "      <td>2015.00000</td>\n",
              "      <td>73.000000</td>\n",
              "      <td>0.764000</td>\n",
              "      <td>0.839000</td>\n",
              "      <td>8.000000</td>\n",
              "      <td>-4.167750</td>\n",
              "      <td>1.000000</td>\n",
              "      <td>0.129000</td>\n",
              "      <td>0.176250</td>\n",
              "      <td>0.000068</td>\n",
              "      <td>0.241000</td>\n",
              "      <td>0.730000</td>\n",
              "      <td>134.265500</td>\n",
              "    </tr>\n",
              "    <tr>\n",
              "      <th>max</th>\n",
              "      <td>484146.000000</td>\n",
              "      <td>2020.00000</td>\n",
              "      <td>89.000000</td>\n",
              "      <td>0.975000</td>\n",
              "      <td>0.999000</td>\n",
              "      <td>11.000000</td>\n",
              "      <td>-0.276000</td>\n",
              "      <td>1.000000</td>\n",
              "      <td>0.576000</td>\n",
              "      <td>0.976000</td>\n",
              "      <td>0.985000</td>\n",
              "      <td>0.853000</td>\n",
              "      <td>0.973000</td>\n",
              "      <td>210.851000</td>\n",
              "    </tr>\n",
              "  </tbody>\n",
              "</table>\n",
              "</div>\n",
              "    <div class=\"colab-df-buttons\">\n",
              "\n",
              "  <div class=\"colab-df-container\">\n",
              "    <button class=\"colab-df-convert\" onclick=\"convertToInteractive('df-c325cdf9-043d-4563-98d0-ff266331d62b')\"\n",
              "            title=\"Convert this dataframe to an interactive table.\"\n",
              "            style=\"display:none;\">\n",
              "\n",
              "  <svg xmlns=\"http://www.w3.org/2000/svg\" height=\"24px\" viewBox=\"0 -960 960 960\">\n",
              "    <path d=\"M120-120v-720h720v720H120Zm60-500h600v-160H180v160Zm220 220h160v-160H400v160Zm0 220h160v-160H400v160ZM180-400h160v-160H180v160Zm440 0h160v-160H620v160ZM180-180h160v-160H180v160Zm440 0h160v-160H620v160Z\"/>\n",
              "  </svg>\n",
              "    </button>\n",
              "\n",
              "  <style>\n",
              "    .colab-df-container {\n",
              "      display:flex;\n",
              "      gap: 12px;\n",
              "    }\n",
              "\n",
              "    .colab-df-convert {\n",
              "      background-color: #E8F0FE;\n",
              "      border: none;\n",
              "      border-radius: 50%;\n",
              "      cursor: pointer;\n",
              "      display: none;\n",
              "      fill: #1967D2;\n",
              "      height: 32px;\n",
              "      padding: 0 0 0 0;\n",
              "      width: 32px;\n",
              "    }\n",
              "\n",
              "    .colab-df-convert:hover {\n",
              "      background-color: #E2EBFA;\n",
              "      box-shadow: 0px 1px 2px rgba(60, 64, 67, 0.3), 0px 1px 3px 1px rgba(60, 64, 67, 0.15);\n",
              "      fill: #174EA6;\n",
              "    }\n",
              "\n",
              "    .colab-df-buttons div {\n",
              "      margin-bottom: 4px;\n",
              "    }\n",
              "\n",
              "    [theme=dark] .colab-df-convert {\n",
              "      background-color: #3B4455;\n",
              "      fill: #D2E3FC;\n",
              "    }\n",
              "\n",
              "    [theme=dark] .colab-df-convert:hover {\n",
              "      background-color: #434B5C;\n",
              "      box-shadow: 0px 1px 3px 1px rgba(0, 0, 0, 0.15);\n",
              "      filter: drop-shadow(0px 1px 2px rgba(0, 0, 0, 0.3));\n",
              "      fill: #FFFFFF;\n",
              "    }\n",
              "  </style>\n",
              "\n",
              "    <script>\n",
              "      const buttonEl =\n",
              "        document.querySelector('#df-c325cdf9-043d-4563-98d0-ff266331d62b button.colab-df-convert');\n",
              "      buttonEl.style.display =\n",
              "        google.colab.kernel.accessAllowed ? 'block' : 'none';\n",
              "\n",
              "      async function convertToInteractive(key) {\n",
              "        const element = document.querySelector('#df-c325cdf9-043d-4563-98d0-ff266331d62b');\n",
              "        const dataTable =\n",
              "          await google.colab.kernel.invokeFunction('convertToInteractive',\n",
              "                                                    [key], {});\n",
              "        if (!dataTable) return;\n",
              "\n",
              "        const docLinkHtml = 'Like what you see? Visit the ' +\n",
              "          '<a target=\"_blank\" href=https://colab.research.google.com/notebooks/data_table.ipynb>data table notebook</a>'\n",
              "          + ' to learn more about interactive tables.';\n",
              "        element.innerHTML = '';\n",
              "        dataTable['output_type'] = 'display_data';\n",
              "        await google.colab.output.renderOutput(dataTable, element);\n",
              "        const docLink = document.createElement('div');\n",
              "        docLink.innerHTML = docLinkHtml;\n",
              "        element.appendChild(docLink);\n",
              "      }\n",
              "    </script>\n",
              "  </div>\n",
              "\n",
              "\n",
              "<div id=\"df-3734bb4d-f557-447a-85fd-496e1f512050\">\n",
              "  <button class=\"colab-df-quickchart\" onclick=\"quickchart('df-3734bb4d-f557-447a-85fd-496e1f512050')\"\n",
              "            title=\"Suggest charts\"\n",
              "            style=\"display:none;\">\n",
              "\n",
              "<svg xmlns=\"http://www.w3.org/2000/svg\" height=\"24px\"viewBox=\"0 0 24 24\"\n",
              "     width=\"24px\">\n",
              "    <g>\n",
              "        <path d=\"M19 3H5c-1.1 0-2 .9-2 2v14c0 1.1.9 2 2 2h14c1.1 0 2-.9 2-2V5c0-1.1-.9-2-2-2zM9 17H7v-7h2v7zm4 0h-2V7h2v10zm4 0h-2v-4h2v4z\"/>\n",
              "    </g>\n",
              "</svg>\n",
              "  </button>\n",
              "\n",
              "<style>\n",
              "  .colab-df-quickchart {\n",
              "      --bg-color: #E8F0FE;\n",
              "      --fill-color: #1967D2;\n",
              "      --hover-bg-color: #E2EBFA;\n",
              "      --hover-fill-color: #174EA6;\n",
              "      --disabled-fill-color: #AAA;\n",
              "      --disabled-bg-color: #DDD;\n",
              "  }\n",
              "\n",
              "  [theme=dark] .colab-df-quickchart {\n",
              "      --bg-color: #3B4455;\n",
              "      --fill-color: #D2E3FC;\n",
              "      --hover-bg-color: #434B5C;\n",
              "      --hover-fill-color: #FFFFFF;\n",
              "      --disabled-bg-color: #3B4455;\n",
              "      --disabled-fill-color: #666;\n",
              "  }\n",
              "\n",
              "  .colab-df-quickchart {\n",
              "    background-color: var(--bg-color);\n",
              "    border: none;\n",
              "    border-radius: 50%;\n",
              "    cursor: pointer;\n",
              "    display: none;\n",
              "    fill: var(--fill-color);\n",
              "    height: 32px;\n",
              "    padding: 0;\n",
              "    width: 32px;\n",
              "  }\n",
              "\n",
              "  .colab-df-quickchart:hover {\n",
              "    background-color: var(--hover-bg-color);\n",
              "    box-shadow: 0 1px 2px rgba(60, 64, 67, 0.3), 0 1px 3px 1px rgba(60, 64, 67, 0.15);\n",
              "    fill: var(--button-hover-fill-color);\n",
              "  }\n",
              "\n",
              "  .colab-df-quickchart-complete:disabled,\n",
              "  .colab-df-quickchart-complete:disabled:hover {\n",
              "    background-color: var(--disabled-bg-color);\n",
              "    fill: var(--disabled-fill-color);\n",
              "    box-shadow: none;\n",
              "  }\n",
              "\n",
              "  .colab-df-spinner {\n",
              "    border: 2px solid var(--fill-color);\n",
              "    border-color: transparent;\n",
              "    border-bottom-color: var(--fill-color);\n",
              "    animation:\n",
              "      spin 1s steps(1) infinite;\n",
              "  }\n",
              "\n",
              "  @keyframes spin {\n",
              "    0% {\n",
              "      border-color: transparent;\n",
              "      border-bottom-color: var(--fill-color);\n",
              "      border-left-color: var(--fill-color);\n",
              "    }\n",
              "    20% {\n",
              "      border-color: transparent;\n",
              "      border-left-color: var(--fill-color);\n",
              "      border-top-color: var(--fill-color);\n",
              "    }\n",
              "    30% {\n",
              "      border-color: transparent;\n",
              "      border-left-color: var(--fill-color);\n",
              "      border-top-color: var(--fill-color);\n",
              "      border-right-color: var(--fill-color);\n",
              "    }\n",
              "    40% {\n",
              "      border-color: transparent;\n",
              "      border-right-color: var(--fill-color);\n",
              "      border-top-color: var(--fill-color);\n",
              "    }\n",
              "    60% {\n",
              "      border-color: transparent;\n",
              "      border-right-color: var(--fill-color);\n",
              "    }\n",
              "    80% {\n",
              "      border-color: transparent;\n",
              "      border-right-color: var(--fill-color);\n",
              "      border-bottom-color: var(--fill-color);\n",
              "    }\n",
              "    90% {\n",
              "      border-color: transparent;\n",
              "      border-bottom-color: var(--fill-color);\n",
              "    }\n",
              "  }\n",
              "</style>\n",
              "\n",
              "  <script>\n",
              "    async function quickchart(key) {\n",
              "      const quickchartButtonEl =\n",
              "        document.querySelector('#' + key + ' button');\n",
              "      quickchartButtonEl.disabled = true;  // To prevent multiple clicks.\n",
              "      quickchartButtonEl.classList.add('colab-df-spinner');\n",
              "      try {\n",
              "        const charts = await google.colab.kernel.invokeFunction(\n",
              "            'suggestCharts', [key], {});\n",
              "      } catch (error) {\n",
              "        console.error('Error during call to suggestCharts:', error);\n",
              "      }\n",
              "      quickchartButtonEl.classList.remove('colab-df-spinner');\n",
              "      quickchartButtonEl.classList.add('colab-df-quickchart-complete');\n",
              "    }\n",
              "    (() => {\n",
              "      let quickchartButtonEl =\n",
              "        document.querySelector('#df-3734bb4d-f557-447a-85fd-496e1f512050 button');\n",
              "      quickchartButtonEl.style.display =\n",
              "        google.colab.kernel.accessAllowed ? 'block' : 'none';\n",
              "    })();\n",
              "  </script>\n",
              "</div>\n",
              "\n",
              "    </div>\n",
              "  </div>\n"
            ],
            "application/vnd.google.colaboratory.intrinsic+json": {
              "type": "dataframe",
              "summary": "{\n  \"name\": \"data\",\n  \"rows\": 8,\n  \"fields\": [\n    {\n      \"column\": \"duration_ms\",\n      \"properties\": {\n        \"dtype\": \"number\",\n        \"std\": 149602.72192749358,\n        \"min\": 2000.0,\n        \"max\": 484146.0,\n        \"num_unique_values\": 8,\n        \"samples\": [\n          228748.1245,\n          223279.5,\n          2000.0\n        ],\n        \"semantic_type\": \"\",\n        \"description\": \"\"\n      }\n    },\n    {\n      \"column\": \"year\",\n      \"properties\": {\n        \"dtype\": \"number\",\n        \"std\": 707.926611654377,\n        \"min\": 5.859960201808823,\n        \"max\": 2020.0,\n        \"num_unique_values\": 8,\n        \"samples\": [\n          2009.494,\n          2010.0,\n          2000.0\n        ],\n        \"semantic_type\": \"\",\n        \"description\": \"\"\n      }\n    },\n    {\n      \"column\": \"popularity\",\n      \"properties\": {\n        \"dtype\": \"number\",\n        \"std\": 689.2786744030175,\n        \"min\": 0.0,\n        \"max\": 2000.0,\n        \"num_unique_values\": 8,\n        \"samples\": [\n          59.8725,\n          65.5,\n          2000.0\n        ],\n        \"semantic_type\": \"\",\n        \"description\": \"\"\n      }\n    },\n    {\n      \"column\": \"danceability\",\n      \"properties\": {\n        \"dtype\": \"number\",\n        \"std\": 706.9082028012464,\n        \"min\": 0.129,\n        \"max\": 2000.0,\n        \"num_unique_values\": 8,\n        \"samples\": [\n          0.6674375,\n          0.676,\n          2000.0\n        ],\n        \"semantic_type\": \"\",\n        \"description\": \"\"\n      }\n    },\n    {\n      \"column\": \"energy\",\n      \"properties\": {\n        \"dtype\": \"number\",\n        \"std\": 706.8985625552203,\n        \"min\": 0.0549,\n        \"max\": 2000.0,\n        \"num_unique_values\": 8,\n        \"samples\": [\n          0.720366,\n          0.736,\n          2000.0\n        ],\n        \"semantic_type\": \"\",\n        \"description\": \"\"\n      }\n    },\n    {\n      \"column\": \"key\",\n      \"properties\": {\n        \"dtype\": \"number\",\n        \"std\": 705.2971536457103,\n        \"min\": 0.0,\n        \"max\": 2000.0,\n        \"num_unique_values\": 8,\n        \"samples\": [\n          5.378,\n          6.0,\n          2000.0\n        ],\n        \"semantic_type\": \"\",\n        \"description\": \"\"\n      }\n    },\n    {\n      \"column\": \"loudness\",\n      \"properties\": {\n        \"dtype\": \"number\",\n        \"std\": 709.1740965903414,\n        \"min\": -20.514,\n        \"max\": 2000.0,\n        \"num_unique_values\": 8,\n        \"samples\": [\n          -5.5124344999999995,\n          -5.285,\n          2000.0\n        ],\n        \"semantic_type\": \"\",\n        \"description\": \"\"\n      }\n    },\n    {\n      \"column\": \"mode\",\n      \"properties\": {\n        \"dtype\": \"number\",\n        \"std\": 706.9023094386778,\n        \"min\": 0.0,\n        \"max\": 2000.0,\n        \"num_unique_values\": 5,\n        \"samples\": [\n          0.5535,\n          1.0,\n          0.4972538392917068\n        ],\n        \"semantic_type\": \"\",\n        \"description\": \"\"\n      }\n    },\n    {\n      \"column\": \"speechiness\",\n      \"properties\": {\n        \"dtype\": \"number\",\n        \"std\": 707.0549133966393,\n        \"min\": 0.0232,\n        \"max\": 2000.0,\n        \"num_unique_values\": 8,\n        \"samples\": [\n          0.1035677,\n          0.05985,\n          2000.0\n        ],\n        \"semantic_type\": \"\",\n        \"description\": \"\"\n      }\n    },\n    {\n      \"column\": \"acousticness\",\n      \"properties\": {\n        \"dtype\": \"number\",\n        \"std\": 707.029864813235,\n        \"min\": 1.92e-05,\n        \"max\": 2000.0,\n        \"num_unique_values\": 8,\n        \"samples\": [\n          0.12895492795000002,\n          0.0557,\n          2000.0\n        ],\n        \"semantic_type\": \"\",\n        \"description\": \"\"\n      }\n    },\n    {\n      \"column\": \"instrumentalness\",\n      \"properties\": {\n        \"dtype\": \"number\",\n        \"std\": 707.0519073356382,\n        \"min\": 0.0,\n        \"max\": 2000.0,\n        \"num_unique_values\": 6,\n        \"samples\": [\n          2000.0,\n          0.015225990605,\n          0.985\n        ],\n        \"semantic_type\": \"\",\n        \"description\": \"\"\n      }\n    },\n    {\n      \"column\": \"liveness\",\n      \"properties\": {\n        \"dtype\": \"number\",\n        \"std\": 707.0235174218935,\n        \"min\": 0.0215,\n        \"max\": 2000.0,\n        \"num_unique_values\": 8,\n        \"samples\": [\n          0.1812158,\n          0.124,\n          2000.0\n        ],\n        \"semantic_type\": \"\",\n        \"description\": \"\"\n      }\n    },\n    {\n      \"column\": \"valence\",\n      \"properties\": {\n        \"dtype\": \"number\",\n        \"std\": 706.932189923234,\n        \"min\": 0.0381,\n        \"max\": 2000.0,\n        \"num_unique_values\": 8,\n        \"samples\": [\n          0.55168965,\n          0.5575000000000001,\n          2000.0\n        ],\n        \"semantic_type\": \"\",\n        \"description\": \"\"\n      }\n    },\n    {\n      \"column\": \"tempo\",\n      \"properties\": {\n        \"dtype\": \"number\",\n        \"std\": 670.3390934886085,\n        \"min\": 26.967111988479473,\n        \"max\": 2000.0,\n        \"num_unique_values\": 8,\n        \"samples\": [\n          120.12255750000001,\n          120.0215,\n          2000.0\n        ],\n        \"semantic_type\": \"\",\n        \"description\": \"\"\n      }\n    }\n  ]\n}"
            }
          },
          "metadata": {},
          "execution_count": 6
        }
      ]
    },
    {
      "cell_type": "markdown",
      "source": [
        "## Pregunta 4\n",
        "**¿Cuál es el promedio de popularidad de las canciones?**\n",
        "\n",
        "_Calcula la media de la columna 'popularity'._"
      ],
      "metadata": {
        "id": "o2LG9RBwXQ0k"
      }
    },
    {
      "cell_type": "code",
      "source": [
        "promedio_popularidad = data['popularity'].mean()\n",
        "print(f\"El promedio de popularidad de las canciones es: {promedio_popularidad}\")"
      ],
      "metadata": {
        "colab": {
          "base_uri": "https://localhost:8080/"
        },
        "id": "a4rzgsgpXRoA",
        "outputId": "27452049-e7a5-4e34-a20d-04a07bf6e08c"
      },
      "execution_count": null,
      "outputs": [
        {
          "output_type": "stream",
          "name": "stdout",
          "text": [
            "El promedio de popularidad de las canciones es: 59.8725\n"
          ]
        }
      ]
    },
    {
      "cell_type": "markdown",
      "source": [
        "## Pregunta 5\n",
        "**¿Cuál es la canción más popular?**\n",
        "\n",
        "_Usa el valor máximo de la columna 'popularity' para identificarla._"
      ],
      "metadata": {
        "id": "2nFsWSqMXQr2"
      }
    },
    {
      "cell_type": "code",
      "source": [
        "max_popularity = data['popularity'].max()\n",
        "most_popular_song = data[data['popularity'] == max_popularity]['song'].values[0]\n",
        "print(f\"La canción más popular es: {most_popular_song}\")"
      ],
      "metadata": {
        "colab": {
          "base_uri": "https://localhost:8080/"
        },
        "id": "uLelnUY7aRZb",
        "outputId": "1e065af2-74ca-4a95-fedc-2b7175b6a1bc"
      },
      "execution_count": null,
      "outputs": [
        {
          "output_type": "stream",
          "name": "stdout",
          "text": [
            "La canción más popular es: Sweater Weather\n"
          ]
        }
      ]
    },
    {
      "cell_type": "markdown",
      "source": [
        "## Pregunta 6\n",
        "**¿Cuál es el artista más frecuente en el dataset?**\n",
        "\n",
        "_Utiliza `value_counts()` sobre la columna 'artist'._"
      ],
      "metadata": {
        "id": "Za7XI4ddXQh1"
      }
    },
    {
      "cell_type": "code",
      "source": [
        "artist_counts = data['artist'].value_counts()\n",
        "most_frequent_artist = artist_counts.index[0]\n",
        "\n",
        "print(f\"El artista más frecuente es: {most_frequent_artist}\")"
      ],
      "metadata": {
        "colab": {
          "base_uri": "https://localhost:8080/"
        },
        "id": "BZL75Q3DXSjv",
        "outputId": "4194f565-f348-4cb3-c253-7a49e26b2a82"
      },
      "execution_count": null,
      "outputs": [
        {
          "output_type": "stream",
          "name": "stdout",
          "text": [
            "El artista más frecuente es: Rihanna\n"
          ]
        }
      ]
    },
    {
      "cell_type": "markdown",
      "source": [
        "## Pregunta 7\n",
        "**Agrupa por artista y calcula el número de canciones por cada uno.**\n",
        "\n",
        "_Esta agrupación ayudará a identificar quiénes tienen mayor presencia en el dataset._"
      ],
      "metadata": {
        "id": "pNVxAHMaXQXh"
      }
    },
    {
      "cell_type": "code",
      "source": [
        "artist_song_counts = data.groupby('artist')['song'].count()\n",
        "print(artist_song_counts)"
      ],
      "metadata": {
        "colab": {
          "base_uri": "https://localhost:8080/"
        },
        "id": "fSxobFXgXTQg",
        "outputId": "47e23e0c-32ad-4713-a048-95bc5c193110"
      },
      "execution_count": null,
      "outputs": [
        {
          "output_type": "stream",
          "name": "stdout",
          "text": [
            "artist\n",
            "*NSYNC         4\n",
            "112            2\n",
            "2 Chainz       2\n",
            "21 Savage      2\n",
            "2Pac           2\n",
            "              ..\n",
            "girl in red    1\n",
            "iann dior      2\n",
            "iio            1\n",
            "t.A.T.u.       1\n",
            "will.i.am      4\n",
            "Name: song, Length: 835, dtype: int64\n"
          ]
        }
      ]
    },
    {
      "cell_type": "markdown",
      "source": [
        "## Pregunta 8\n",
        "**Agrupa por artista y calcula la suma de popularidad.**\n",
        "\n",
        "_Identifica el artista cuya suma de popularidad es mayor (podría interpretarse como \"hit maker\")._"
      ],
      "metadata": {
        "id": "BeqZUEzpXQOs"
      }
    },
    {
      "cell_type": "code",
      "source": [
        "artist_popularity_sum = data.groupby('artist')['popularity'].sum()\n",
        "hit_maker = artist_popularity_sum.idxmax()\n",
        "\n",
        "print(f\"El artista con mayor suma de popularidad (hit maker) es: {hit_maker}\")"
      ],
      "metadata": {
        "colab": {
          "base_uri": "https://localhost:8080/"
        },
        "id": "CsswTli_XTxC",
        "outputId": "776f8ca4-8e9f-405a-e43c-20fb2d983442"
      },
      "execution_count": null,
      "outputs": [
        {
          "output_type": "stream",
          "name": "stdout",
          "text": [
            "El artista con mayor suma de popularidad (hit maker) es: Rihanna\n"
          ]
        }
      ]
    },
    {
      "cell_type": "markdown",
      "source": [
        "## Pregunta 9\n",
        "**Agrupa por género y calcula la suma de popularidad.**\n",
        "\n",
        "_Determina cuál es el género con mayor popularidad total._"
      ],
      "metadata": {
        "id": "CbgsMdyhXQDb"
      }
    },
    {
      "cell_type": "code",
      "source": [
        "genre_popularity_sum = data.groupby('genre')['popularity'].sum()\n",
        "most_popular_genre = genre_popularity_sum.idxmax()\n",
        "\n",
        "print(f\"El género con mayor popularidad total es: {most_popular_genre}\")"
      ],
      "metadata": {
        "colab": {
          "base_uri": "https://localhost:8080/"
        },
        "id": "PvoXfyg7XUe3",
        "outputId": "829323f3-cd25-43b9-8969-ed2e78215635"
      },
      "execution_count": null,
      "outputs": [
        {
          "output_type": "stream",
          "name": "stdout",
          "text": [
            "El género con mayor popularidad total es: pop\n"
          ]
        }
      ]
    },
    {
      "cell_type": "markdown",
      "source": [
        "## Pregunta 10\n",
        "**¿Cuál es el promedio de duración de las canciones (en milisegundos)?**\n",
        "\n",
        "_Calcula la media de la columna 'duration_ms'._"
      ],
      "metadata": {
        "id": "-FQG01OBXP4Y"
      }
    },
    {
      "cell_type": "code",
      "source": [
        "average_duration = data['duration_ms'].mean()\n",
        "print(f\"El promedio de duración de las canciones es: {average_duration} milisegundos\")"
      ],
      "metadata": {
        "colab": {
          "base_uri": "https://localhost:8080/"
        },
        "id": "YMUARDHeXU70",
        "outputId": "2ca258f4-6527-4664-c5a9-76e955f20ada"
      },
      "execution_count": null,
      "outputs": [
        {
          "output_type": "stream",
          "name": "stdout",
          "text": [
            "El promedio de duración de las canciones es: 228748.1245 milisegundos\n"
          ]
        }
      ]
    },
    {
      "cell_type": "markdown",
      "source": [
        "## Pregunta 11\n",
        "**Agrupa por año y calcula el promedio de popularidad.**\n",
        "\n",
        "_Identifica en qué año las canciones tuvieron mayor popularidad promedio._"
      ],
      "metadata": {
        "id": "u8R-joaXXPtW"
      }
    },
    {
      "cell_type": "code",
      "source": [
        "year_popularity_avg = data.groupby('year')['popularity'].mean()\n",
        "year_highest_popularity = year_popularity_avg.idxmax()\n",
        "\n",
        "print(f\"El año con mayor popularidad promedio fue: {year_highest_popularity}\")"
      ],
      "metadata": {
        "colab": {
          "base_uri": "https://localhost:8080/"
        },
        "id": "xhwCFvwAXVli",
        "outputId": "8e0332fe-78a0-404b-a76d-6ab84ad911a3"
      },
      "execution_count": null,
      "outputs": [
        {
          "output_type": "stream",
          "name": "stdout",
          "text": [
            "El año con mayor popularidad promedio fue: 2018\n"
          ]
        }
      ]
    },
    {
      "cell_type": "markdown",
      "source": [
        "## Pregunta 12\n",
        "**Filtra las canciones explícitas y no explícitas y compara su popularidad promedio.**\n",
        "\n",
        "_Analiza si las canciones con contenido explícito tienen mayor o menor popularidad._"
      ],
      "metadata": {
        "id": "32cqIL1xXPir"
      }
    },
    {
      "cell_type": "code",
      "source": [
        "explicit_songs = data[data['explicit'] == 1]\n",
        "non_explicit_songs = data[data['explicit'] == 0]\n",
        "\n",
        "avg_popularity_explicit = explicit_songs['popularity'].mean()\n",
        "avg_popularity_non_explicit = non_explicit_songs['popularity'].mean()\n",
        "\n",
        "print(f\"Popularidad promedio de canciones explícitas: {avg_popularity_explicit}\")\n",
        "print(f\"Popularidad promedio de canciones no explícitas: {avg_popularity_non_explicit}\")\n",
        "\n",
        "if avg_popularity_explicit > avg_popularity_non_explicit:\n",
        "    print(\"Las canciones con contenido explícito tienen mayor popularidad promedio.\")\n",
        "elif avg_popularity_explicit < avg_popularity_non_explicit:\n",
        "    print(\"Las canciones con contenido explícito tienen menor popularidad promedio.\")\n",
        "else:\n",
        "    print(\"Las canciones con contenido explícito y no explícito tienen la misma popularidad promedio.\")"
      ],
      "metadata": {
        "colab": {
          "base_uri": "https://localhost:8080/"
        },
        "id": "Ns7C-tKBXWBF",
        "outputId": "988b2165-88f5-479d-bb8d-68b0e4b9c137"
      },
      "execution_count": null,
      "outputs": [
        {
          "output_type": "stream",
          "name": "stdout",
          "text": [
            "Popularidad promedio de canciones explícitas: 61.48457350272232\n",
            "Popularidad promedio de canciones no explícitas: 59.259489302967566\n",
            "Las canciones con contenido explícito tienen mayor popularidad promedio.\n"
          ]
        }
      ]
    },
    {
      "cell_type": "markdown",
      "source": [
        "## Pregunta 13 (Negocio)\n",
        "**Identifica qué artistas tienen un promedio de popularidad mayor a 75.**\n",
        "\n",
        "_Estos artistas podrían considerarse \"hit makers\". Filtra y agrupa la información y comenta las implicaciones para la industria musical._"
      ],
      "metadata": {
        "id": "TvoqPYuqXPXa"
      }
    },
    {
      "cell_type": "code",
      "source": [
        "artist_avg_popularity = data.groupby('artist')['popularity'].mean()\n",
        "hit_makers = artist_avg_popularity[artist_avg_popularity > 75]\n",
        "\n",
        "print(\"Artistas con un promedio de popularidad mayor a 75:\")\n",
        "print(hit_makers)"
      ],
      "metadata": {
        "colab": {
          "base_uri": "https://localhost:8080/"
        },
        "id": "jkyGfEE7XWmm",
        "outputId": "ec120549-acc4-4e46-cfcb-c2d4eb55a50e"
      },
      "execution_count": null,
      "outputs": [
        {
          "output_type": "stream",
          "name": "stdout",
          "text": [
            "Artistas con un promedio de popularidad mayor a 75:\n",
            "artist\n",
            "21 Savage        76.0\n",
            "A$AP Rocky       76.0\n",
            "Alan Walker      78.0\n",
            "Alec Benjamin    82.0\n",
            "All Time Low     76.0\n",
            "                 ... \n",
            "WILLOW           86.0\n",
            "XXXTENTACION     81.5\n",
            "blink-182        79.0\n",
            "fun.             76.0\n",
            "girl in red      82.0\n",
            "Name: popularity, Length: 85, dtype: float64\n"
          ]
        }
      ]
    },
    {
      "cell_type": "markdown",
      "source": [
        "## Pregunta 14\n",
        "**Filtra las canciones del género 'pop' y calcula el promedio de danceability y energy.**\n",
        "\n",
        "_Esto permitirá evaluar características musicales del pop._"
      ],
      "metadata": {
        "id": "5RNv2NSQXPM3"
      }
    },
    {
      "cell_type": "code",
      "source": [
        "# Filtra las canciones del género 'pop'\n",
        "pop_songs = data[data['genre'] == 'pop']\n",
        "\n",
        "# Calcula el promedio de danceability\n",
        "avg_danceability = pop_songs['danceability'].mean()\n",
        "\n",
        "# Calcula el promedio de energy\n",
        "avg_energy = pop_songs['energy'].mean()\n",
        "\n",
        "# Imprime los resultados\n",
        "print(f\"Promedio de danceability para canciones de pop: {avg_danceability}\")\n",
        "print(f\"Promedio de energy para canciones de pop: {avg_energy}\")"
      ],
      "metadata": {
        "colab": {
          "base_uri": "https://localhost:8080/"
        },
        "id": "BOyIoRWmXW-0",
        "outputId": "9be71155-4191-458e-dc1e-f8e9f9123b21"
      },
      "execution_count": null,
      "outputs": [
        {
          "output_type": "stream",
          "name": "stdout",
          "text": [
            "Promedio de danceability para canciones de pop: 0.6478855140186915\n",
            "Promedio de energy para canciones de pop: 0.7163761682242991\n"
          ]
        }
      ]
    },
    {
      "cell_type": "markdown",
      "source": [
        "## Pregunta 15 (Negocio)\n",
        "**¿Qué insights se pueden obtener de la relación entre danceability y popularidad?**\n",
        "\n",
        "_Reflexiona sobre cómo la capacidad de baile (danceability) puede influir en el éxito comercial de una canción. (Respuesta abierta)_"
      ],
      "metadata": {
        "id": "9MN_qfbBXPDL"
      }
    },
    {
      "cell_type": "markdown",
      "source": [],
      "metadata": {
        "id": "Pn_LU3dTcw3U"
      }
    },
    {
      "cell_type": "markdown",
      "source": [
        "## Pregunta 16\n",
        "**Agrupa por 'mode' y calcula el promedio de loudness.**\n",
        "\n",
        "_El valor de 'mode' (mayormente 0 o 1) puede tener implicaciones en la tonalidad; analiza si hay diferencias en el loudness._"
      ],
      "metadata": {
        "id": "10VF8FQMXO46"
      }
    },
    {
      "cell_type": "code",
      "source": [
        "# Agrupa por 'mode' y calcula el promedio de loudness\n",
        "mode_loudness = data.groupby('mode')['loudness'].mean()\n",
        "\n",
        "# Imprime los resultados\n",
        "print(mode_loudness)\n",
        "\n",
        "# Analiza las diferencias\n",
        "if mode_loudness[0] > mode_loudness[1]:\n",
        "    print(\"Las canciones en modo 0 tienen un loudness promedio mayor.\")\n",
        "elif mode_loudness[0] < mode_loudness[1]:\n",
        "    print(\"Las canciones en modo 1 tienen un loudness promedio mayor.\")\n",
        "else:\n",
        "    print(\"Las canciones en modo 0 y 1 tienen el mismo loudness promedio.\")"
      ],
      "metadata": {
        "colab": {
          "base_uri": "https://localhost:8080/"
        },
        "id": "OUcloeG3XYAk",
        "outputId": "8b04ae76-3758-451f-d9b3-64c66f2770c0"
      },
      "execution_count": null,
      "outputs": [
        {
          "output_type": "stream",
          "name": "stdout",
          "text": [
            "mode\n",
            "0   -5.451888\n",
            "1   -5.561276\n",
            "Name: loudness, dtype: float64\n",
            "Las canciones en modo 0 tienen un loudness promedio mayor.\n"
          ]
        }
      ]
    },
    {
      "cell_type": "markdown",
      "source": [
        "## Pregunta 17 (Negocio)\n",
        "**Analiza la influencia de 'acousticness' en la popularidad.**\n",
        "\n",
        "_Agrupa las canciones en rangos (por ejemplo, baja, media y alta acousticness) y calcula el promedio de popularidad para cada grupo. Comenta las posibles implicaciones para productores musicales._"
      ],
      "metadata": {
        "id": "8SSre26SXOvj"
      }
    },
    {
      "cell_type": "code",
      "source": [
        "# Define los rangos de acousticness\n",
        "bins = [0, 0.33, 0.66, 1]\n",
        "labels = ['Baja', 'Media', 'Alta']\n",
        "\n",
        "# Crea una nueva columna 'acousticness_level' con los rangos\n",
        "data['acousticness_level'] = pd.cut(data['acousticness'], bins=bins, labels=labels, include_lowest=True)\n",
        "\n",
        "# Agrupa por 'acousticness_level' y calcula el promedio de popularidad\n",
        "acousticness_popularity = data.groupby('acousticness_level')['popularity'].mean()\n",
        "\n",
        "# Imprime los resultados\n",
        "print(acousticness_popularity)"
      ],
      "metadata": {
        "colab": {
          "base_uri": "https://localhost:8080/"
        },
        "id": "SuzbKc8JdrTz",
        "outputId": "01f2a2be-29ae-4da9-ed77-b66decddb738"
      },
      "execution_count": null,
      "outputs": [
        {
          "output_type": "stream",
          "name": "stdout",
          "text": [
            "acousticness_level\n",
            "Baja     59.925821\n",
            "Media    57.746032\n",
            "Alta     66.711111\n",
            "Name: popularity, dtype: float64\n"
          ]
        },
        {
          "output_type": "stream",
          "name": "stderr",
          "text": [
            "<ipython-input-25-812f52ff5b22>:9: FutureWarning: The default of observed=False is deprecated and will be changed to True in a future version of pandas. Pass observed=False to retain current behavior or observed=True to adopt the future default and silence this warning.\n",
            "  acousticness_popularity = data.groupby('acousticness_level')['popularity'].mean()\n"
          ]
        }
      ]
    },
    {
      "cell_type": "markdown",
      "source": [
        "## Pregunta 18\n",
        "**Filtra las canciones con un tempo entre 100 y 120 BPM y cuenta cuántas hay.**\n",
        "\n",
        "_Este filtro puede ayudar a identificar canciones con un ritmo intermedio, común en varios géneros populares._"
      ],
      "metadata": {
        "id": "PKRrPLI3XOll"
      }
    },
    {
      "cell_type": "code",
      "source": [
        "# Filtra las canciones con un tempo entre 100 y 120 BPM\n",
        "filtered_songs = data[(data['tempo'] >= 100) & (data['tempo'] <= 120)]\n",
        "\n",
        "# Cuenta cuántas canciones hay en el DataFrame filtrado\n",
        "song_count = len(filtered_songs)\n",
        "\n",
        "# Imprime el resultado\n",
        "print(f\"Hay {song_count} canciones con un tempo entre 100 y 120 BPM.\")"
      ],
      "metadata": {
        "colab": {
          "base_uri": "https://localhost:8080/"
        },
        "id": "N8CIiFMiXZfe",
        "outputId": "b5c2df4f-8d56-4776-fdc6-17935f3ca7a5"
      },
      "execution_count": null,
      "outputs": [
        {
          "output_type": "stream",
          "name": "stdout",
          "text": [
            "Hay 434 canciones con un tempo entre 100 y 120 BPM.\n"
          ]
        }
      ]
    },
    {
      "cell_type": "markdown",
      "source": [
        "## Pregunta 19\n",
        "**Agrupa por 'explicit' y calcula el promedio de 'valence'.**\n",
        "\n",
        "_El 'valence' mide el tono emocional (positivo o negativo) de una canción. Compara canciones explícitas y no explícitas._"
      ],
      "metadata": {
        "id": "VZspXWXnXOb7"
      }
    },
    {
      "cell_type": "code",
      "source": [
        "# Agrupa por 'explicit' y calcula el promedio de 'valence'\n",
        "valence_by_explicit = data.groupby('explicit')['valence'].mean()\n",
        "\n",
        "# Imprime los resultados\n",
        "print(valence_by_explicit)\n",
        "\n",
        "# Compara las canciones explícitas y no explícitas\n",
        "explicit_valence = valence_by_explicit[1]  # Promedio de valence para canciones explícitas (explicit=1)\n",
        "non_explicit_valence = valence_by_explicit[0]  # Promedio de valence para canciones no explícitas (explicit=0)\n",
        "\n",
        "print(f\"Promedio de valence para canciones explícitas: {explicit_valence}\")\n",
        "print(f\"Promedio de valence para canciones no explícitas: {non_explicit_valence}\")\n",
        "\n",
        "if explicit_valence > non_explicit_valence:\n",
        "    print(\"Las canciones explícitas tienden a tener un valence más alto (tono emocional más positivo).\")\n",
        "elif explicit_valence < non_explicit_valence:\n",
        "    print(\"Las canciones explícitas tienden a tener un valence más bajo (tono emocional más negativo).\")\n",
        "else:\n",
        "    print(\"Las canciones explícitas y no explícitas tienen un valence promedio similar.\")"
      ],
      "metadata": {
        "colab": {
          "base_uri": "https://localhost:8080/"
        },
        "id": "vzki_eqmXaIz",
        "outputId": "e57be62e-0225-4431-ffa6-26929d34abb3"
      },
      "execution_count": null,
      "outputs": [
        {
          "output_type": "stream",
          "name": "stdout",
          "text": [
            "explicit\n",
            "False    0.557879\n",
            "True     0.535413\n",
            "Name: valence, dtype: float64\n",
            "Promedio de valence para canciones explícitas: 0.5354132486388384\n",
            "Promedio de valence para canciones no explícitas: 0.5578789510006901\n",
            "Las canciones explícitas tienden a tener un valence más bajo (tono emocional más negativo).\n"
          ]
        },
        {
          "output_type": "stream",
          "name": "stderr",
          "text": [
            "<ipython-input-27-186a6f3e2d3b>:8: FutureWarning: Series.__getitem__ treating keys as positions is deprecated. In a future version, integer keys will always be treated as labels (consistent with DataFrame behavior). To access a value by position, use `ser.iloc[pos]`\n",
            "  explicit_valence = valence_by_explicit[1]  # Promedio de valence para canciones explícitas (explicit=1)\n",
            "<ipython-input-27-186a6f3e2d3b>:9: FutureWarning: Series.__getitem__ treating keys as positions is deprecated. In a future version, integer keys will always be treated as labels (consistent with DataFrame behavior). To access a value by position, use `ser.iloc[pos]`\n",
            "  non_explicit_valence = valence_by_explicit[0]  # Promedio de valence para canciones no explícitas (explicit=0)\n"
          ]
        }
      ]
    },
    {
      "cell_type": "markdown",
      "source": [
        "## Pregunta 20 (Negocio)\n",
        "**Basado en el análisis previo (popularidad, atributos musicales y agrupaciones), ¿qué estrategias recomendarías a un productor musical para diseñar hits?**\n",
        "\n",
        "_Considera aspectos como el estilo musical, características sonoras (danceability, energy, acousticness) y tendencias por género. (Respuesta abierta)_"
      ],
      "metadata": {
        "id": "IqGwTx8tXOLA"
      }
    },
    {
      "cell_type": "markdown",
      "source": [
        "\n",
        "Para crear éxitos musicales, un productor necesita fusionar la ciencia musical (examinando las propiedades sonoras y las tendencias) con la inventiva para brindar algo novedoso.  Es vital balancear las corrientes de los géneros populares con la innovación, y siempre considerar lo que hace que una canción sea emocionalmente vinculante y sencilla de apreciar para un público amplio.\n"
      ],
      "metadata": {
        "id": "MIPrJh0xFD47"
      }
    },
    {
      "cell_type": "markdown",
      "source": [],
      "metadata": {
        "id": "TfE8vR29fe-s"
      }
    },
    {
      "cell_type": "markdown",
      "source": [
        "## Conclusión\n",
        "\n",
        "En este notebook se han planteado 20 preguntas que combinan operaciones técnicas de análisis (agrupaciones, filtros y estadísticas) con reflexiones de negocio en el contexto de la industria musical. Estos ejercicios permiten a los estudiantes extraer insights y proponer estrategias basadas en el comportamiento y características de las canciones."
      ],
      "metadata": {
        "id": "nmi1HkyUY4vx"
      }
    }
  ]
}